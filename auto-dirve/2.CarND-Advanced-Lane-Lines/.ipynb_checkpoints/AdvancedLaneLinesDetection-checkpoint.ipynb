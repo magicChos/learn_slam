{
 "cells": [
  {
   "cell_type": "markdown",
   "metadata": {},
   "source": [
    "## Advanced Lane Finding Project\n",
    "\n",
    "The goals / steps of this project are the following:\n",
    "\n",
    "* Compute the camera calibration matrix and distortion coefficients given a set of chessboard images.\n",
    "* Apply a distortion correction to raw images.\n",
    "* Use color transforms, gradients, etc., to create a thresholded binary image.\n",
    "* Apply a perspective transform to rectify binary image (\"birds-eye view\").\n",
    "* Detect lane pixels and fit to find the lane boundary.\n",
    "* Determine the curvature of the lane and vehicle position with respect to center.\n",
    "* Warp the detected lane boundaries back onto the original image.\n",
    "* Output visual display of the lane boundaries and numerical estimation of lane curvature and vehicle position."
   ]
  },
  {
   "cell_type": "markdown",
   "metadata": {},
   "source": [
    "## Import Packages"
   ]
  },
  {
   "cell_type": "code",
   "execution_count": null,
   "metadata": {},
   "outputs": [],
   "source": [
    "## Basic lib \n",
    "import numpy as np\n",
    "import cv2\n",
    "import glob\n",
    "import matplotlib.pyplot as plt\n",
    "import plotly.io as pio\n",
    "pio.renderers.default = 'iframe_connected'"
   ]
  },
  {
   "cell_type": "markdown",
   "metadata": {},
   "source": [
    "## Step 1 : Calibration "
   ]
  },
  {
   "cell_type": "code",
   "execution_count": null,
   "metadata": {},
   "outputs": [],
   "source": [
    "#################################################################\n",
    "# Step 1 : Calculate camera distortion coefficients\n",
    "#################################################################\n",
    "def getCameraCalibrationCoefficients(chessboardname, nx, ny):\n",
    "    # prepare object points, like (0,0,0), (1,0,0), (2,0,0) ....,(6,5,0)\n",
    "    objp = np.zeros((ny * nx, 3), np.float32)\n",
    "    objp[:,:2] = np.mgrid[0:nx, 0:ny].T.reshape(-1,2)\n",
    "    \n",
    "    # Arrays to store object points and image points from all the images.\n",
    "    objpoints = [] # 3d points in real world space\n",
    "    imgpoints = [] # 2d points in image plane.\n",
    "    \n",
    "    images = glob.glob(chessboardname)\n",
    "    if len(images) > 0:\n",
    "        print(\"images num for calibration : \", len(images))\n",
    "    else:\n",
    "        print(\"No image for calibration.\")\n",
    "        return\n",
    "    \n",
    "    ret_count = 0\n",
    "    for idx, fname in enumerate(images):\n",
    "        img = cv2.imread(fname)\n",
    "        gray = cv2.cvtColor(img, cv2.COLOR_BGR2GRAY)\n",
    "        img_size = (img.shape[1], img.shape[0])\n",
    "        # Finde the chessboard corners\n",
    "        ret, corners = cv2.findChessboardCorners(gray, (nx, ny), None)\n",
    "\n",
    "        # If found, add object points, image points\n",
    "        if ret == True:\n",
    "            ret_count += 1\n",
    "            objpoints.append(objp)\n",
    "            imgpoints.append(corners)\n",
    "            \n",
    "    ret, mtx, dist, rvecs, tvecs = cv2.calibrateCamera(objpoints, imgpoints, img_size, None, None)\n",
    "    print('Do calibration successfully')\n",
    "    return ret, mtx, dist, rvecs, tvecs"
   ]
  },
  {
   "cell_type": "markdown",
   "metadata": {},
   "source": [
    "### Do calibration"
   ]
  },
  {
   "cell_type": "code",
   "execution_count": null,
   "metadata": {},
   "outputs": [],
   "source": [
    "nx = 9 \n",
    "ny = 6\n",
    "ret, mtx, dist, rvecs, tvecs = getCameraCalibrationCoefficients('camera_cal/calibration*.jpg', nx, ny)"
   ]
  },
  {
   "cell_type": "markdown",
   "metadata": {},
   "source": [
    "## Step 2 : Undistort Image"
   ]
  },
  {
   "cell_type": "code",
   "execution_count": null,
   "metadata": {},
   "outputs": [],
   "source": [
    "#################################################################\n",
    "# Step 2 : Undistort image\n",
    "#################################################################\n",
    "def undistortImage(distortImage, mtx, dist):\n",
    "    return cv2.undistort(distortImage, mtx, dist, None, mtx)"
   ]
  },
  {
   "cell_type": "markdown",
   "metadata": {},
   "source": [
    "### Do undistortion"
   ]
  },
  {
   "cell_type": "code",
   "execution_count": null,
   "metadata": {},
   "outputs": [],
   "source": [
    "# Read distorted chessboard image\n",
    "test_distort_image = cv2.imread('./camera_cal/calibration4.jpg')\n",
    "\n",
    "# Do undistortion & display\n",
    "test_undistort_image = undistortImage(test_distort_image, mtx, dist)\n",
    "plt.figure()\n",
    "plt.imshow(test_undistort_image)"
   ]
  },
  {
   "cell_type": "markdown",
   "metadata": {},
   "source": [
    "## Step 3 : Warp Image"
   ]
  },
  {
   "cell_type": "code",
   "execution_count": null,
   "metadata": {},
   "outputs": [],
   "source": [
    "#################################################################\n",
    "# Step 3 : Warp image based on src_points and dst_points\n",
    "#################################################################\n",
    "# The type of src_points & dst_points should be like\n",
    "# np.float32([ [0,0], [100,200], [200, 300], [300,400]])\n",
    "def warpImage(image, src_points, dst_points):\n",
    "    image_size = (image.shape[1], image.shape[0])\n",
    "    # rows = img.shape[0] 720\n",
    "    # cols = img.shape[1] 1280\n",
    "    M = cv2.getPerspectiveTransform(src, dst)\n",
    "    Minv = cv2.getPerspectiveTransform(dst, src)\n",
    "    warped_image = cv2.warpPerspective(image, M,image_size, flags=cv2.INTER_LINEAR)\n",
    "    \n",
    "    return warped_image, M, Minv"
   ]
  },
  {
   "cell_type": "markdown",
   "metadata": {},
   "source": [
    "### warp image"
   ]
  },
  {
   "cell_type": "code",
   "execution_count": null,
   "metadata": {},
   "outputs": [],
   "source": [
    "test_distort_image = cv2.imread('test_images/test4.jpg')\n",
    "\n",
    "# Do undistortion & display\n",
    "test_undistort_image = undistortImage(test_distort_image, mtx, dist)\n",
    "\n",
    "src = np.float32([[580, 460], [700, 460], [1096, 720], [200, 720]])\n",
    "dst = np.float32([[300, 0], [950, 0], [950, test_undistort_image.shape[0]], [300, test_undistort_image.shape[0]]])\n",
    "test_warp_image, M, Minv = warpImage(test_undistort_image, src, dst)\n",
    "\n",
    "plt.figure()\n",
    "plt.imshow(cv2.cvtColor(test_warp_image, cv2.COLOR_BGR2RGB))"
   ]
  },
  {
   "cell_type": "markdown",
   "metadata": {},
   "source": [
    "## Step 4 : Create Binary Image"
   ]
  },
  {
   "cell_type": "code",
   "execution_count": null,
   "metadata": {},
   "outputs": [],
   "source": [
    "#################################################################\n",
    "# Step 4 : Create a thresholded binary image\n",
    "#################################################################\n",
    "def hlsLSelect(img, thresh=(220, 255)):\n",
    "    hls = cv2.cvtColor(img, cv2.COLOR_BGR2HLS)\n",
    "    l_channel = hls[:,:,1]\n",
    "    l_channel = l_channel*(255/np.max(l_channel))\n",
    "    binary_output = np.zeros_like(l_channel)\n",
    "    binary_output[(l_channel > thresh[0]) & (l_channel <= thresh[1])] = 1\n",
    "    return binary_output\n",
    "\n",
    "def hlsSSelect(img, thresh=(125, 255)):\n",
    "    hls = cv2.cvtColor(img, cv2.COLOR_BGR2HLS)\n",
    "    s_channel = hls[:,:,2]\n",
    "    s_channel = s_channel*(255/np.max(s_channel))\n",
    "    binary_output = np.zeros_like(s_channel)\n",
    "    binary_output[(s_channel > thresh[0]) & (s_channel <= thresh[1])] = 1\n",
    "    return binary_output\n",
    "\n",
    "def dirThreshold(img, sobel_kernel=3, thresh=(0, np.pi/2)):\n",
    "    # 1) Convert to grayscale\n",
    "    gray = cv2.cvtColor(img, cv2.COLOR_BGR2GRAY)\n",
    "    # 2) Take the gradient in x and y separately\n",
    "    sobelx = cv2.Sobel(gray, cv2.CV_64F, 1, 0, ksize=sobel_kernel)\n",
    "    sobely = cv2.Sobel(gray, cv2.CV_64F, 0, 1, ksize=sobel_kernel)\n",
    "    # 3) Take the absolute value of the x and y gradients\n",
    "    abs_sobelx = np.absolute(sobelx)\n",
    "    abs_sobely = np.absolute(sobely)\n",
    "    # 4) Use np.arctan2(abs_sobely, abs_sobelx) to calculate the direction of the gradient \n",
    "    direction_sobelxy = np.arctan2(abs_sobely, abs_sobelx)\n",
    "    # 5) Create a binary mask where direction thresholds are met\n",
    "    binary_output = np.zeros_like(direction_sobelxy)\n",
    "    binary_output[(direction_sobelxy >= thresh[0]) & (direction_sobelxy <= thresh[1])] = 1\n",
    "    # 6) Return the binary image\n",
    "    return binary_output\n",
    "\n",
    "def magThreshold(img, sobel_kernel=3, mag_thresh=(0, 255)):\n",
    "    # Apply the following steps to img\n",
    "    # 1) Convert to grayscale\n",
    "    gray = cv2.cvtColor(img, cv2.COLOR_RGB2GRAY)\n",
    "    # 2) Take the gradient in x and y separately\n",
    "    sobelx = cv2.Sobel(gray, cv2.CV_64F, 1, 0, sobel_kernel)\n",
    "    sobely = cv2.Sobel(gray, cv2.CV_64F, 0, 1, sobel_kernel)\n",
    "    # 3) Calculate the magnitude \n",
    "    #abs_sobelx = np.absolute(sobelx)\n",
    "    #abs_sobely = np.absolute(sobely)\n",
    "    abs_sobelxy = np.sqrt(sobelx * sobelx + sobely * sobely)\n",
    "    # 4) Scale to 8-bit (0 - 255) and convert to type = np.uint8\n",
    "    scaled_sobelxy = np.uint8(abs_sobelxy/np.max(abs_sobelxy) * 255)\n",
    "    # 5) Create a binary mask where mag thresholds are met\n",
    "    binary_output = np.zeros_like(scaled_sobelxy)\n",
    "    binary_output[(scaled_sobelxy >= mag_thresh[0]) & (scaled_sobelxy <= mag_thresh[1])] = 1\n",
    "    # 6) Return this mask as your binary_output image\n",
    "    return binary_output\n",
    "\n",
    "def absSobelThreshold(img, orient='x', thresh_min=0, thresh_max=255):\n",
    "    # Convert to grayscale\n",
    "    gray = cv2.cvtColor(img, cv2.COLOR_RGB2GRAY)\n",
    "    # Apply x or y gradient with the OpenCV Sobel() function\n",
    "    # and take the absolute value\n",
    "    if orient == 'x':\n",
    "        abs_sobel = np.absolute(cv2.Sobel(gray, cv2.CV_64F, 1, 0))\n",
    "    if orient == 'y':\n",
    "        abs_sobel = np.absolute(cv2.Sobel(gray, cv2.CV_64F, 0, 1))\n",
    "    # Rescale back to 8 bit integer\n",
    "    scaled_sobel = np.uint8(255*abs_sobel/np.max(abs_sobel))\n",
    "    # Create a copy and apply the threshold\n",
    "    binary_output = np.zeros_like(scaled_sobel)\n",
    "    # Here I'm using inclusive (>=, <=) thresholds, but exclusive is ok too\n",
    "    binary_output[(scaled_sobel >= thresh_min) & (scaled_sobel <= thresh_max)] = 1\n",
    "\n",
    "    # Return the result\n",
    "    return binary_output\n",
    "\n",
    "def labBSelect(img, thresh=(215, 255)):\n",
    "    # 1) Convert to LAB color space\n",
    "    lab = cv2.cvtColor(img, cv2.COLOR_BGR2Lab)\n",
    "    lab_b = lab[:,:,2]\n",
    "    # don't normalize if there are no yellows in the image\n",
    "    if np.max(lab_b) > 100:\n",
    "        lab_b = lab_b*(255/np.max(lab_b))\n",
    "    # 2) Apply a threshold to the L channel\n",
    "    binary_output = np.ones_like(lab_b)\n",
    "    binary_output[((lab_b > thresh[0]) & (lab_b <= thresh[1]))] = 0\n",
    "    # 3) Return a binary image of threshold result\n",
    "    return binary_output"
   ]
  },
  {
   "cell_type": "markdown",
   "metadata": {},
   "source": [
    "### create binary image"
   ]
  },
  {
   "cell_type": "code",
   "execution_count": null,
   "metadata": {},
   "outputs": [],
   "source": [
    "min_thresh = 30\n",
    "max_thresh = 100\n",
    "Result_sobelAbs = absSobelThreshold(test_warp_image, 'x', min_thresh, max_thresh)\n",
    "# Visualize sobel absolute threshold\n",
    "f, (ax1, ax2) = plt.subplots(1, 2, figsize=(20,10))\n",
    "f.subplots_adjust(hspace = .2, wspace=.05)\n",
    "ax1.imshow(cv2.cvtColor(test_warp_image, cv2.COLOR_BGR2RGB))\n",
    "ax1.set_title('Unwarped Image', fontsize=30)\n",
    "ax2.imshow(Result_sobelAbs, cmap='gray')\n",
    "ax2.set_title('Sobel Absolute', fontsize=30)"
   ]
  },
  {
   "cell_type": "code",
   "execution_count": null,
   "metadata": {},
   "outputs": [],
   "source": [
    "min_thresh = 150\n",
    "max_thresh = 255\n",
    "Result_hlsS = hlsSSelect(test_warp_image, (min_thresh, max_thresh))\n",
    "# Visualize sobel absolute threshold\n",
    "f, (ax1, ax2) = plt.subplots(1, 2, figsize=(20,10))\n",
    "f.subplots_adjust(hspace = .2, wspace=.05)\n",
    "ax1.imshow(cv2.cvtColor(test_warp_image, cv2.COLOR_BGR2RGB))\n",
    "ax1.set_title('Unwarped Image', fontsize=30)\n",
    "ax2.imshow(Result_hlsS, cmap='gray')\n",
    "ax2.set_title('S Channel', fontsize=30)"
   ]
  },
  {
   "cell_type": "code",
   "execution_count": null,
   "metadata": {},
   "outputs": [],
   "source": [
    "min_thresh = 215\n",
    "max_thresh = 255\n",
    "Result_hlsL = hlsLSelect(test_warp_image, (min_thresh, max_thresh))\n",
    "f, (ax1, ax2) = plt.subplots(1, 2, figsize=(20,10))\n",
    "f.subplots_adjust(hspace = .2, wspace=.05)\n",
    "ax1.imshow(cv2.cvtColor(test_warp_image, cv2.COLOR_BGR2RGB))\n",
    "ax1.set_title('Unwarped Image', fontsize=30)\n",
    "ax2.imshow(Result_hlsL, cmap='gray')\n",
    "ax2.set_title('L Channel', fontsize=30)"
   ]
  },
  {
   "cell_type": "code",
   "execution_count": null,
   "metadata": {},
   "outputs": [],
   "source": [
    "min_thresh = 215\n",
    "max_thresh = 255\n",
    "Result_labB = labBSelect(test_warp_image, (min_thresh, max_thresh))\n",
    "f, (ax1, ax2) = plt.subplots(1, 2, figsize=(20,10))\n",
    "f.subplots_adjust(hspace = .2, wspace=.05)\n",
    "ax1.imshow(cv2.cvtColor(test_warp_image, cv2.COLOR_BGR2RGB))\n",
    "ax1.set_title('Unwarped Image', fontsize=30)\n",
    "ax2.imshow(Result_labB, cmap='gray')\n",
    "ax2.set_title('B Channel', fontsize=30)"
   ]
  },
  {
   "cell_type": "code",
   "execution_count": null,
   "metadata": {},
   "outputs": [],
   "source": [
    "sx_binary  = absSobelThreshold(test_warp_image, 'x', 40, 100)\n",
    "hlsL_binary = hlsLSelect(test_warp_image)\n",
    "labB_binary = labBSelect(test_warp_image)\n",
    "combined_binary = np.zeros_like(sx_binary)\n",
    "combined_binary[(hlsL_binary == 1) | (labB_binary == 0)] = 1\n",
    "plt.figure()\n",
    "plt.imshow(combined_binary, cmap='gray')"
   ]
  },
  {
   "cell_type": "markdown",
   "metadata": {},
   "source": [
    "## Step 5 : Detection"
   ]
  },
  {
   "cell_type": "code",
   "execution_count": null,
   "metadata": {},
   "outputs": [],
   "source": [
    "#################################################################\n",
    "# Step 5 : Detect lane lines through moving window\n",
    "#################################################################\n",
    "def find_lane_pixels(binary_warped, nwindows, margin, minpix):\n",
    "    # Take a histogram of the bottom half of the image\n",
    "    histogram = np.sum(binary_warped[binary_warped.shape[0]//2:,:], axis=0)\n",
    "    # Create an output image to draw on and visualize the result\n",
    "    out_img = np.dstack((binary_warped, binary_warped, binary_warped))\n",
    "    # Find the peak of the left and right halves of the histogram\n",
    "    # These will be the starting point for the left and right lines\n",
    "    midpoint = np.int(histogram.shape[0]//2)\n",
    "    leftx_base = np.argmax(histogram[:midpoint])\n",
    "    rightx_base = np.argmax(histogram[midpoint:]) + midpoint\n",
    "    \n",
    "    # Set height of windows - based on nwindows above and image shape\n",
    "    window_height = np.int(binary_warped.shape[0]//nwindows)\n",
    "    # Identify the x and y positions of all nonzero pixels in the image\n",
    "    nonzero = binary_warped.nonzero()\n",
    "    nonzeroy = np.array(nonzero[0])\n",
    "    nonzerox = np.array(nonzero[1])\n",
    "    # Current positions to be updated later for each window in nwindows\n",
    "    leftx_current = leftx_base\n",
    "    rightx_current = rightx_base\n",
    "\n",
    "    # Create empty lists to receive left and right lane pixel indices\n",
    "    left_lane_inds = []\n",
    "    right_lane_inds = []\n",
    "\n",
    "    # Step through the windows one by one\n",
    "    for window in range(nwindows):\n",
    "        # Identify window boundaries in x and y (and right and left)\n",
    "        win_y_low = binary_warped.shape[0] - (window+1)*window_height\n",
    "        win_y_high = binary_warped.shape[0] - window*window_height\n",
    "        win_xleft_low = leftx_current - margin\n",
    "        win_xleft_high = leftx_current + margin\n",
    "        win_xright_low = rightx_current - margin\n",
    "        win_xright_high = rightx_current + margin\n",
    "        \n",
    "        # Draw the windows on the visualization image\n",
    "        cv2.rectangle(out_img,(win_xleft_low,win_y_low),\n",
    "        (win_xleft_high,win_y_high),(0,255,0), 2) \n",
    "        cv2.rectangle(out_img,(win_xright_low,win_y_low),\n",
    "        (win_xright_high,win_y_high),(0,255,0), 2) \n",
    "        \n",
    "        # Identify the nonzero pixels in x and y within the window #\n",
    "        good_left_inds = ((nonzeroy >= win_y_low) & (nonzeroy < win_y_high) & \n",
    "        (nonzerox >= win_xleft_low) &  (nonzerox < win_xleft_high)).nonzero()[0]\n",
    "        good_right_inds = ((nonzeroy >= win_y_low) & (nonzeroy < win_y_high) & \n",
    "        (nonzerox >= win_xright_low) &  (nonzerox < win_xright_high)).nonzero()[0]\n",
    "        \n",
    "        # Append these indices to the lists\n",
    "        left_lane_inds.append(good_left_inds)\n",
    "        right_lane_inds.append(good_right_inds)\n",
    "        \n",
    "        # If you found > minpix pixels, recenter next window on their mean position\n",
    "        if len(good_left_inds) > minpix:\n",
    "            leftx_current = np.int(np.mean(nonzerox[good_left_inds]))\n",
    "        if len(good_right_inds) > minpix:        \n",
    "            rightx_current = np.int(np.mean(nonzerox[good_right_inds]))\n",
    "\n",
    "    # Concatenate the arrays of indices (previously was a list of lists of pixels)\n",
    "    try:\n",
    "        left_lane_inds = np.concatenate(left_lane_inds)\n",
    "        right_lane_inds = np.concatenate(right_lane_inds)\n",
    "    except ValueError:\n",
    "        # Avoids an error if the above is not implemented fully\n",
    "        pass\n",
    "\n",
    "    # Extract left and right line pixel positions\n",
    "    leftx = nonzerox[left_lane_inds]\n",
    "    lefty = nonzeroy[left_lane_inds] \n",
    "    rightx = nonzerox[right_lane_inds]\n",
    "    righty = nonzeroy[right_lane_inds]\n",
    "\n",
    "    return leftx, lefty, rightx, righty, out_img\n",
    "\n",
    "def fit_polynomial(binary_warped, nwindows=9, margin=100, minpix=50):\n",
    "    # Find our lane pixels first\n",
    "    leftx, lefty, rightx, righty, out_img = find_lane_pixels(\n",
    "        binary_warped, nwindows, margin, minpix)\n",
    "\n",
    "    # Fit a second order polynomial to each using `np.polyfit`\n",
    "    left_fit = np.polyfit(lefty, leftx, 2)\n",
    "    right_fit = np.polyfit(righty, rightx, 2)\n",
    "\n",
    "    # Generate x and y values for plotting\n",
    "    ploty = np.linspace(0, binary_warped.shape[0]-1, binary_warped.shape[0] )\n",
    "    try:\n",
    "        left_fitx = left_fit[0]*ploty**2 + left_fit[1]*ploty + left_fit[2]\n",
    "        right_fitx = right_fit[0]*ploty**2 + right_fit[1]*ploty + right_fit[2]\n",
    "    except TypeError:\n",
    "        # Avoids an error if `left` and `right_fit` are still none or incorrect\n",
    "        print('The function failed to fit a line!')\n",
    "        left_fitx = 1*ploty**2 + 1*ploty\n",
    "        right_fitx = 1*ploty**2 + 1*ploty\n",
    "\n",
    "    ## Visualization ##\n",
    "    # Colors in the left and right lane regions\n",
    "    out_img[lefty, leftx] = [255, 0, 0]\n",
    "    out_img[righty, rightx] = [0, 0, 255]\n",
    "\n",
    "    # Plots the left and right polynomials on the lane lines\n",
    "    #plt.plot(left_fitx, ploty, color='yellow')\n",
    "    #plt.plot(right_fitx, ploty, color='yellow')\n",
    "\n",
    "    return out_img, left_fit, right_fit, ploty"
   ]
  },
  {
   "cell_type": "markdown",
   "metadata": {},
   "source": [
    "### Do detection"
   ]
  },
  {
   "cell_type": "code",
   "execution_count": null,
   "metadata": {},
   "outputs": [],
   "source": [
    "out_img, left_fit, right_fit, ploty = fit_polynomial(combined_binary, nwindows=9, margin=80, minpix=40)\n",
    "plt.figure()\n",
    "plt.imshow(combined_binary, cmap='gray')\n",
    "\n",
    "plt.figure()\n",
    "plt.imshow(out_img)"
   ]
  },
  {
   "cell_type": "markdown",
   "metadata": {},
   "source": [
    "## Step 5 : Tracking"
   ]
  },
  {
   "cell_type": "code",
   "execution_count": null,
   "metadata": {},
   "outputs": [],
   "source": [
    "#################################################################\n",
    "# Step 6 : Track lane lines based latest lane line result\n",
    "#################################################################\n",
    "def fit_poly(img_shape, leftx, lefty, rightx, righty):\n",
    "     ### TO-DO: Fit a second order polynomial to each with np.polyfit() ###\n",
    "    left_fit = np.polyfit(lefty, leftx, 2)\n",
    "    right_fit = np.polyfit(righty, rightx, 2)\n",
    "    # Generate x and y values for plotting\n",
    "    ploty = np.linspace(0, img_shape[0]-1, img_shape[0])\n",
    "    ### TO-DO: Calc both polynomials using ploty, left_fit and right_fit ###\n",
    "    left_fitx = left_fit[0]*ploty**2 + left_fit[1]*ploty + left_fit[2]\n",
    "    right_fitx = right_fit[0]*ploty**2 + right_fit[1]*ploty + right_fit[2]\n",
    "    \n",
    "    return left_fitx, right_fitx, ploty, left_fit, right_fit\n",
    "\n",
    "def search_around_poly(binary_warped, left_fit, right_fit):\n",
    "    # HYPERPARAMETER\n",
    "    # Choose the width of the margin around the previous polynomial to search\n",
    "    # The quiz grader expects 100 here, but feel free to tune on your own!\n",
    "    margin = 60\n",
    "\n",
    "    # Grab activated pixels\n",
    "    nonzero = binary_warped.nonzero()\n",
    "    nonzeroy = np.array(nonzero[0])\n",
    "    nonzerox = np.array(nonzero[1])\n",
    "    \n",
    "    ### TO-DO: Set the area of search based on activated x-values ###\n",
    "    ### within the +/- margin of our polynomial function ###\n",
    "    ### Hint: consider the window areas for the similarly named variables ###\n",
    "    ### in the previous quiz, but change the windows to our new search area ###\n",
    "    left_lane_inds = ((nonzerox > (left_fit[0]*(nonzeroy**2) + left_fit[1]*nonzeroy + \n",
    "                    left_fit[2] - margin)) & (nonzerox < (left_fit[0]*(nonzeroy**2) + \n",
    "                    left_fit[1]*nonzeroy + left_fit[2] + margin)))\n",
    "    right_lane_inds = ((nonzerox > (right_fit[0]*(nonzeroy**2) + right_fit[1]*nonzeroy + \n",
    "                    right_fit[2] - margin)) & (nonzerox < (right_fit[0]*(nonzeroy**2) + \n",
    "                    right_fit[1]*nonzeroy + right_fit[2] + margin)))\n",
    "    \n",
    "    # Again, extract left and right line pixel positions\n",
    "    leftx = nonzerox[left_lane_inds]\n",
    "    lefty = nonzeroy[left_lane_inds] \n",
    "    rightx = nonzerox[right_lane_inds]\n",
    "    righty = nonzeroy[right_lane_inds]\n",
    "\n",
    "    # Fit new polynomials\n",
    "    left_fitx, right_fitx, ploty, left_fit, right_fit = fit_poly(binary_warped.shape, leftx, lefty, rightx, righty)\n",
    "    \n",
    "    ## Visualization ##\n",
    "    # Create an image to draw on and an image to show the selection window\n",
    "    out_img = np.dstack((binary_warped, binary_warped, binary_warped))*255\n",
    "    window_img = np.zeros_like(out_img)\n",
    "    # Color in left and right line pixels\n",
    "    out_img[nonzeroy[left_lane_inds], nonzerox[left_lane_inds]] = [255, 0, 0]\n",
    "    out_img[nonzeroy[right_lane_inds], nonzerox[right_lane_inds]] = [0, 0, 255]\n",
    "\n",
    "    # Generate a polygon to illustrate the search window area\n",
    "    # And recast the x and y points into usable format for cv2.fillPoly()\n",
    "    left_line_window1 = np.array([np.transpose(np.vstack([left_fitx-margin, ploty]))])\n",
    "    left_line_window2 = np.array([np.flipud(np.transpose(np.vstack([left_fitx+margin, \n",
    "                              ploty])))])\n",
    "    left_line_pts = np.hstack((left_line_window1, left_line_window2))\n",
    "    right_line_window1 = np.array([np.transpose(np.vstack([right_fitx-margin, ploty]))])\n",
    "    right_line_window2 = np.array([np.flipud(np.transpose(np.vstack([right_fitx+margin, \n",
    "                              ploty])))])\n",
    "    right_line_pts = np.hstack((right_line_window1, right_line_window2))\n",
    "\n",
    "    # Draw the lane onto the warped blank image\n",
    "    cv2.fillPoly(window_img, np.int_([left_line_pts]), (0,255, 0))\n",
    "    cv2.fillPoly(window_img, np.int_([right_line_pts]), (0,255, 0))\n",
    "    result = cv2.addWeighted(out_img, 1, window_img, 0.3, 0)\n",
    "    \n",
    "    # Plot the polynomial lines onto the image\n",
    "    #plt.plot(left_fitx, ploty, color='yellow')\n",
    "    #plt.plot(right_fitx, ploty, color='yellow')\n",
    "    ## End visualization steps ##\n",
    "    \n",
    "    return result, left_fit, right_fit, ploty"
   ]
  },
  {
   "cell_type": "markdown",
   "metadata": {},
   "source": [
    "### Do tracking"
   ]
  },
  {
   "cell_type": "code",
   "execution_count": null,
   "metadata": {},
   "outputs": [],
   "source": [
    "track_result, track_left_fit, track_right_fit, ploty,  = search_around_poly(combined_binary, left_fit, right_fit)\n",
    "plt.figure()\n",
    "plt.imshow(track_result)"
   ]
  },
  {
   "cell_type": "markdown",
   "metadata": {},
   "source": [
    "## Measure Curvature and Offset"
   ]
  },
  {
   "cell_type": "code",
   "execution_count": null,
   "metadata": {},
   "outputs": [],
   "source": [
    "#################################################################\n",
    "# Step 7 : Measure real world curvature\n",
    "#################################################################\n",
    "def measure_curvature_real(\n",
    "    left_fit_cr, right_fit_cr, ploty,\n",
    "    ym_per_pix = 30/720, xm_per_pix = 3.7/700):\n",
    "    '''\n",
    "    Calculates the curvature of polynomial functions in meters.\n",
    "    '''\n",
    "    # Define y-value where we want radius of curvature\n",
    "    # We'll choose the maximum y-value, corresponding to the bottom of the image\n",
    "    y_eval = np.max(ploty)\n",
    "    \n",
    "    # Calculation of R_curve (radius of curvature)\n",
    "    left_curverad = ((1 + (2*left_fit_cr[0]*y_eval*ym_per_pix + left_fit_cr[1])**2)**1.5) / np.absolute(2*left_fit_cr[0])\n",
    "    right_curverad = ((1 + (2*right_fit_cr[0]*y_eval*ym_per_pix + right_fit_cr[1])**2)**1.5) / np.absolute(2*right_fit_cr[0])\n",
    "    \n",
    "    left_position = left_fit_cr[0]*720 + left_fit_cr[1]*720 + left_fit_cr[2]\n",
    "    right_position = right_fit_cr[0]*720 + right_fit_cr[1]*720 + right_fit_cr[2]\n",
    "    midpoint = 1280/2\n",
    "    lane_center =(left_position + right_position)/2\n",
    "    offset = (midpoint - lane_center) * xm_per_pix\n",
    "    \n",
    "    return left_curverad, right_curverad, offset"
   ]
  },
  {
   "cell_type": "markdown",
   "metadata": {},
   "source": [
    "### Measure Curvature and Offset"
   ]
  },
  {
   "cell_type": "code",
   "execution_count": null,
   "metadata": {},
   "outputs": [],
   "source": [
    "left_curverad, right_curverad, offset = measure_curvature_real(track_left_fit, track_right_fit, ploty)\n",
    "average_curverad = (left_curverad + right_curverad)/2\n",
    "print(left_curverad, 'm', right_curverad, 'm', average_curverad, 'm')\n",
    "print('offset : ', offset, 'm')"
   ]
  },
  {
   "cell_type": "markdown",
   "metadata": {},
   "source": [
    "## Drawing"
   ]
  },
  {
   "cell_type": "code",
   "execution_count": null,
   "metadata": {},
   "outputs": [],
   "source": [
    "#################################################################\n",
    "# Step 8 : Draw lane line result on undistorted image\n",
    "#################################################################\n",
    "def drawing(undist, bin_warped, color_warp, left_fitx, right_fitx):\n",
    "    # Create an image to draw the lines on\n",
    "    warp_zero = np.zeros_like(bin_warped).astype(np.uint8)\n",
    "    color_warp = np.dstack((warp_zero, warp_zero, warp_zero))\n",
    "\n",
    "    # Recast the x and y points into usable format for cv2.fillPoly()\n",
    "    pts_left = np.array([np.transpose(np.vstack([left_fitx, ploty]))])\n",
    "    pts_right = np.array([np.flipud(np.transpose(np.vstack([right_fitx, ploty])))])\n",
    "    pts = np.hstack((pts_left, pts_right))\n",
    "\n",
    "    # Draw the lane onto the warped blank image\n",
    "    cv2.fillPoly(color_warp, np.int_([pts]), (0,255, 0))\n",
    "\n",
    "    # Warp the blank back to original image space using inverse perspective matrix (Minv)\n",
    "    newwarp = cv2.warpPerspective(color_warp, Minv, (undist.shape[1], undist.shape[0])) \n",
    "    # Combine the result with the original image\n",
    "    result = cv2.addWeighted(undist, 1, newwarp, 0.3, 0)\n",
    "    return result\n",
    "\n",
    "def draw_text(image, curverad, offset):\n",
    "    result = np.copy(image)\n",
    "    font = cv2.FONT_HERSHEY_SIMPLEX\n",
    "    text = 'Curve Radius : ' + '{:04.2f}'.format(curverad) + 'm'\n",
    "    cv2.putText(result, text, (20, 50), font, 1.2, (255, 255, 255), 2)\n",
    "    if offset > 0:\n",
    "        text = 'right of center : ' + '{:04.3f}'.format(abs(offset)) + 'm '\n",
    "    else:\n",
    "        text = 'left  of center : ' + '{:04.3f}'.format(abs(offset)) + 'm '\n",
    "    cv2.putText(result, text, (20, 100), font, 1.2, (255, 255, 255), 2)\n",
    "    return result"
   ]
  },
  {
   "cell_type": "markdown",
   "metadata": {},
   "source": [
    "### Do drawing"
   ]
  },
  {
   "cell_type": "code",
   "execution_count": null,
   "metadata": {},
   "outputs": [],
   "source": [
    "left_fitx = track_left_fit[0]*ploty**2 + track_left_fit[1]*ploty + track_left_fit[2]\n",
    "right_fitx = track_right_fit[0]*ploty**2 + track_right_fit[1]*ploty + track_right_fit[2]\n",
    "result = drawing(test_undistort_image, combined_binary, test_warp_image, left_fitx, right_fitx)\n",
    "text_result = draw_text(result, average_curverad, offset)\n",
    "plt.figure()\n",
    "plt.imshow(cv2.cvtColor(text_result, cv2.COLOR_BGR2RGB))"
   ]
  },
  {
   "cell_type": "markdown",
   "metadata": {},
   "source": [
    "## Process Image"
   ]
  },
  {
   "cell_type": "code",
   "execution_count": null,
   "metadata": {},
   "outputs": [],
   "source": [
    "nx = 9 \n",
    "ny = 6\n",
    "ret, mtx, dist, rvecs, tvecs = getCameraCalibrationCoefficients('camera_cal/calibration*.jpg', nx, ny)"
   ]
  },
  {
   "cell_type": "code",
   "execution_count": null,
   "metadata": {},
   "outputs": [],
   "source": [
    "input_image = cv2.imread('original_image/1045.jpg')\n",
    "src = np.float32([[580, 460], [700, 460], [1096, 720], [200, 720]])\n",
    "dst = np.float32([[300, 0], [950, 0], [950, 720], [300, 720]])\n",
    "\n",
    "undistort_image = undistortImage(input_image, mtx, dist)\n",
    "warp_image, M, Minv = warpImage(undistort_image, src, dst)\n",
    "plt.figure()\n",
    "plt.imshow(cv2.cvtColor(warp_image, cv2.COLOR_BGR2RGB))\n",
    "\n",
    "hlsL_binary = hlsLSelect(warp_image)\n",
    "labB_binary = labBSelect(warp_image, (205, 255))\n",
    "combined_binary = np.zeros_like(sx_binary)\n",
    "combined_binary[(hlsL_binary == 1) | (labB_binary == 0)] = 1\n",
    "plt.figure()\n",
    "plt.imshow(combined_binary, cmap='gray')\n",
    "\n",
    "out_img, left_fit, right_fit, ploty = fit_polynomial(combined_binary, nwindows=9, margin=80, minpix=40)\n",
    "plt.figure()\n",
    "plt.imshow(out_img)\n",
    "\n",
    "track_result, track_left_fit, track_right_fit, ploty,  = search_around_poly(combined_binary, left_fit, right_fit)\n",
    "plt.figure()\n",
    "plt.imshow(track_result)\n",
    "\n",
    "left_curverad, right_curverad, offset = measure_curvature_real(track_left_fit, track_right_fit, ploty)\n",
    "average_curverad = (left_curverad + right_curverad)/2\n",
    "left_fitx = track_left_fit[0]*ploty**2 + track_left_fit[1]*ploty + track_left_fit[2]\n",
    "right_fitx = track_right_fit[0]*ploty**2 + track_right_fit[1]*ploty + track_right_fit[2]\n",
    "result = drawing(test_undistort_image, combined_binary, test_warp_image, left_fitx, right_fitx)\n",
    "text_result = draw_text(result, average_curverad, offset)\n",
    "plt.figure()\n",
    "plt.imshow(cv2.cvtColor(text_result, cv2.COLOR_BGR2RGB))"
   ]
  },
  {
   "cell_type": "markdown",
   "metadata": {},
   "source": [
    "## Process Video"
   ]
  },
  {
   "cell_type": "code",
   "execution_count": null,
   "metadata": {},
   "outputs": [],
   "source": [
    "nx = 9 \n",
    "ny = 6\n",
    "ret, mtx, dist, rvecs, tvecs = getCameraCalibrationCoefficients('camera_cal/calibration*.jpg', nx, ny)\n",
    "\n",
    "src = np.float32([[580, 460], [700, 460], [1096, 720], [200, 720]])\n",
    "dst = np.float32([[300, 0], [950, 0], [950, 720], [300, 720]])\n",
    "\n",
    "video_input = 'project_video.mp4'\n",
    "video_output = 'output_images/result_video.mp4'\n",
    "\n",
    "cap = cv2.VideoCapture(video_input)\n",
    "\n",
    "fourcc = cv2.VideoWriter_fourcc(*'XVID')\n",
    "out = cv2.VideoWriter(video_output, fourcc, 20.0, (1280, 720))\n",
    "\n",
    "count = 1\n",
    "detected = False\n",
    "\n",
    "while(True):\n",
    "    ret, image = cap.read()\n",
    "    if ret:\n",
    "        undistort_image = undistortImage(image, mtx, dist)\n",
    "        warp_image, M, Minv = warpImage(undistort_image, src, dst)\n",
    "        hlsL_binary = hlsLSelect(warp_image)\n",
    "        labB_binary = labBSelect(warp_image, (205, 255))\n",
    "        combined_binary = np.zeros_like(sx_binary)\n",
    "        combined_binary[(hlsL_binary == 1) | (labB_binary == 0)] = 1\n",
    "        left_fit = []\n",
    "        right_fit = []\n",
    "        ploty = []\n",
    "        if detected == False:\n",
    "            out_img, left_fit, right_fit, ploty = fit_polynomial(combined_binary, nwindows=9, margin=80, minpix=40)\n",
    "            if (len(left_fit) > 0 & len(right_fit) > 0) :\n",
    "                detected = True\n",
    "            else :\n",
    "                detected = False\n",
    "        else:\n",
    "            track_result, left_fit, right_fit, ploty,  = search_around_poly(combined_binary, left_fit, right_fit)\n",
    "            if (len(left_fit) > 0 & len(right_fit) > 0) :\n",
    "                detected = True\n",
    "            else :\n",
    "                detected = False\n",
    "        \n",
    "        left_curverad, right_curverad, offset = measure_curvature_real(left_fit, right_fit, ploty)\n",
    "        average_curverad = (left_curverad + right_curverad)/2\n",
    "        left_fitx = left_fit[0]*ploty**2 + left_fit[1]*ploty + left_fit[2]\n",
    "        right_fitx = right_fit[0]*ploty**2 + right_fit[1]*ploty + right_fit[2]\n",
    "        result = drawing(undistort_image, combined_binary, warp_image, left_fitx, right_fitx)\n",
    "        text_result = draw_text(result, average_curverad, offset)\n",
    "        \n",
    "        out.write(text_result)\n",
    "        #cv2.imwrite('original_image/' + str(count) + '.jpg', undistort_image)\n",
    "        #cv2.imwrite('result_image/' + str(count) + '.jpg', text_result)\n",
    "        count += 1\n",
    "    else:\n",
    "        break\n",
    "        \n",
    "cap.release()\n",
    "out.release()"
   ]
  },
  {
   "cell_type": "code",
   "execution_count": null,
   "metadata": {},
   "outputs": [],
   "source": []
  }
 ],
 "metadata": {
  "kernelspec": {
   "display_name": "Python 3",
   "language": "python",
   "name": "python3"
  },
  "language_info": {
   "codemirror_mode": {
    "name": "ipython",
    "version": 3
   },
   "file_extension": ".py",
   "mimetype": "text/x-python",
   "name": "python",
   "nbconvert_exporter": "python",
   "pygments_lexer": "ipython3",
   "version": "3.6.9"
  }
 },
 "nbformat": 4,
 "nbformat_minor": 2
}
